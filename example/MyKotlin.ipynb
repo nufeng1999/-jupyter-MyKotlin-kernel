{
 "cells": [
  {
   "cell_type": "code",
   "execution_count": 1,
   "id": "7b22ecc7-e3b6-4c71-a390-51dd531d0ed8",
   "metadata": {},
   "outputs": [
    {
     "name": "stdout",
     "output_type": "stream",
     "text": [
      "/bin:/usr/bin:/usr/local/bin:/opt/node/bin:/opt/dart-sdk/bin:/opt/flutter/bin:/bin:/usr/bin:/usr/local/bin:/opt/dart-sdk/bin:/opt/flutter/bin:/usr/local/sbin:/usr/local/bin:/usr/sbin:/usr/bin:/sbin:/bin:/usr/games:/usr/local/games:/usr/lib/wsl/lib:/mnt/c/Program Files/Common Files/Oracle/Java/javapath:/mnt/c/WINDOWS/system32:/mnt/c/WINDOWS:/mnt/c/WINDOWS/System32/Wbem:/mnt/c/WINDOWS/System32/WindowsPowerShell/v1.0/:/mnt/c/WINDOWS/System32/OpenSSH/:/mnt/d/Program Files (x86)/NetSarang/Xftp 7/:/mnt/c/Program Files/dotnet/:/mnt/s/Python/Python39:/mnt/s/Python/Python39/Scripts:/mnt/c/Program Files/Microsoft SQL Server/130/Tools/Binn/:/mnt/c/Program Files/Microsoft SQL Server/Client SDK/ODBC/170/Tools/Binn/:/mnt/d/Program Files/Git/cmd:/mnt/e/Program Files/TortoiseGit/bin:/mnt/c/Program Files/PowerShell/7/:/mnt/c/Program Files/Wolfram Research/WolframScript/:/mnt/c/ProgramData/chocolatey/bin:/mnt/s/tools/dart-sdk/bin:/mnt/s/tools/flutter/bin:/mnt/c/Users/Administrator/AppData/Local/Microsoft/WindowsApps:/mnt/s/Users/Administrator/AppData/Local/Programs/Microsoft VS Code/bin:/mnt/c/Users/Administrator/AppData/Roaming/Pub/Cache/bin:/snap/bin\n"
     ]
    }
   ],
   "source": [
    "echo $PATH"
   ]
  },
  {
   "cell_type": "code",
   "execution_count": 2,
   "id": "c1241d05-3f42-4b0a-9ab0-22093c7b19d7",
   "metadata": {},
   "outputs": [
    {
     "name": "stdout",
     "output_type": "stream",
     "text": [
      "Linux MyW541 5.4.72-microsoft-standard-WSL2 #1 SMP Wed Oct 28 23:40:43 UTC 2020 x86_64 x86_64 x86_64 GNU/Linux\n"
     ]
    }
   ],
   "source": [
    "uname -a"
   ]
  },
  {
   "cell_type": "code",
   "execution_count": 3,
   "id": "3c68ae3a-f187-40df-bd65-566cf03a5512",
   "metadata": {},
   "outputs": [
    {
     "name": "stdout",
     "output_type": "stream",
     "text": [
      "172.20.240.1\n"
     ]
    }
   ],
   "source": [
    "echo $HOSTIP"
   ]
  },
  {
   "cell_type": "code",
   "execution_count": 4,
   "id": "45c25327-bde9-42b0-8380-3adbdc76104a",
   "metadata": {},
   "outputs": [
    {
     "name": "stdout",
     "output_type": "stream",
     "text": [
      "eth0: flags=4163<UP,BROADCAST,RUNNING,MULTICAST>  mtu 1500\n",
      "        inet 172.20.240.54  netmask 255.255.240.0  broadcast 172.20.255.255\n",
      "        inet6 fe80::215:5dff:fe8a:efce  prefixlen 64  scopeid 0x20<link>\n",
      "        ether 00:15:5d:8a:ef:ce  txqueuelen 1000  (以太网)\n",
      "        RX packets 198575  bytes 359002835 (359.0 MB)\n",
      "        RX errors 0  dropped 0  overruns 0  frame 0\n",
      "        TX packets 93335  bytes 30513731 (30.5 MB)\n",
      "        TX errors 0  dropped 0 overruns 0  carrier 0  collisions 0\n",
      "\n",
      "lo: flags=73<UP,LOOPBACK,RUNNING>  mtu 65536\n",
      "        inet 127.0.0.1  netmask 255.0.0.0\n",
      "        inet6 ::1  prefixlen 128  scopeid 0x10<host>\n",
      "        loop  txqueuelen 1000  (本地环回)\n",
      "        RX packets 3912  bytes 621204 (621.2 KB)\n",
      "        RX errors 0  dropped 0  overruns 0  frame 0\n",
      "        TX packets 3912  bytes 621204 (621.2 KB)\n",
      "        TX errors 0  dropped 0 overruns 0  carrier 0  collisions 0\n",
      "\n"
     ]
    }
   ],
   "source": [
    "ifconfig"
   ]
  },
  {
   "cell_type": "code",
   "execution_count": 5,
   "id": "1548969e-3c4d-4ef0-a617-022110f6cee0",
   "metadata": {},
   "outputs": [],
   "source": [
    "print \"----\""
   ]
  },
  {
   "cell_type": "code",
   "execution_count": null,
   "id": "15a4cc8f-511a-44fb-8d17-67bd2f633cde",
   "metadata": {},
   "outputs": [],
   "source": []
  }
 ],
 "metadata": {
  "kernelspec": {
   "display_name": "Bash",
   "language": "bash",
   "name": "bash"
  },
  "language_info": {
   "codemirror_mode": "shell",
   "file_extension": ".sh",
   "mimetype": "text/x-sh",
   "name": "bash"
  },
  "widgets": {
   "application/vnd.jupyter.widget-state+json": {
    "state": {},
    "version_major": 2,
    "version_minor": 0
   }
  }
 },
 "nbformat": 4,
 "nbformat_minor": 5
}
