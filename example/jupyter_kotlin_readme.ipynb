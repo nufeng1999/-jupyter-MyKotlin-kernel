{
 "cells": [
  {
   "cell_type": "code",
   "execution_count": 1,
   "id": "1e4a9e52",
   "metadata": {},
   "outputs": [
    {
     "name": "stdout",
     "output_type": "stream",
     "text": [
      "[MyKotlinKernel145457] Info:Generating binary file\n",
      "[MyKotlinKernel145457] Info: kotlinc  -d  /mnt/h/Jupyter/jupyter-MyKotlin-kernel/example  /mnt/h/Jupyter/jupyter-MyKotlin-kernel/example/tmpkb4kasag.kt\n",
      "[MyKotlinKernel145457] Info:kotlinc -d /mnt/h/Jupyter/jupyter-MyKotlin-kernel/example /mnt/h/Jupyter/jupyter-MyKotlin-kernel/example/tmpkb4kasag.kt \n",
      "[MyKotlinKernel145457] Info:tmpkb4kasag.kt:3:10: warning: parameter 'args' is never used\n",
      "fun main(args: Array<String>) {    // 包级可见的函数，接受一个字符串数组作为参数\n",
      "         ^\n",
      "\n",
      "[MyKotlinKernel145457] Info:The process end:24952\n",
      "[MyKotlinKernel145457] Info:The process :Tmpkb4kasagKt\n",
      "The process :Tmpkb4kasagKt\n",
      "[MyKotlinKernel145457] Info:java -cp :/root/.sdkman/candidates/kotlin/1.6.0/lib/kotlin-stdlib.jar:/mnt/h/Jupyter/jupyter-MyKotlin-kernel/example Tmpkb4kasagKt \n"
     ]
    },
    {
     "data": {
      "text/plain": [
       "Hello World!\n"
      ]
     },
     "metadata": {
      "text/plain": {}
     },
     "output_type": "display_data"
    },
    {
     "name": "stdout",
     "output_type": "stream",
     "text": [
      "[MyKotlinKernel145457] Info:The process end:25022\n"
     ]
    }
   ],
   "source": [
    "//###%joptions:-cp /tmp:/usr/share/java/groovy.jar\n",
    "##%main:package\n",
    "##%main:hello\n",
    "///package hello.test                      //  可选的包头\n",
    "\n",
    "fun main(args: Array<String>) {    // 包级可见的函数，接受一个字符串数组作为参数\n",
    "   println(\"Hello World!\")         // 分号可以省略\n",
    "}"
   ]
  }
 ],
 "metadata": {
  "interpreter": {
   "hash": "31f2aee4e71d21fbe5cf8b01ff0e069b9275f58929596ceb00d14d90e3e16cd6"
  },
  "kernelspec": {
   "display_name": "MyKotlin",
   "language": "kotlin",
   "name": "mykotlin"
  },
  "language_info": {
   "file_extension": ".kt",
   "mimetype": "text/kotlin",
   "name": "text/kotlin"
  }
 },
 "nbformat": 4,
 "nbformat_minor": 5
}
